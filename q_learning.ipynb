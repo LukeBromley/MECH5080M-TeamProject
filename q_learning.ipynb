{
 "cells": [
  {
   "cell_type": "code",
   "execution_count": 1,
   "id": "cdb1c50e",
   "metadata": {},
   "outputs": [],
   "source": [
    "from gym import Env\n",
    "from gym.spaces import Discrete, Box\n",
    "import numpy as np\n",
    "import random\n",
    "\n",
    "from Backend.Junction.main import Simulation"
   ]
  },
  {
   "cell_type": "code",
   "execution_count": 2,
   "id": "ccb33c0a",
   "metadata": {},
   "outputs": [],
   "source": [
    "class JunctionEnv(Env):\n",
    "    def __init__(self, sim: Simulation):\n",
    "        self.sim = sim\n",
    "        self.action_space = Discrete(3)\n",
    "        self.observation_space = Box(low=np.array([0]), high=np.array([10]))\n",
    "        self.state = 0\n",
    "        self.iteration = 0\n",
    "        \n",
    "    def step(self, action):\n",
    "        self.sim.update(self.iteration)\n",
    "        self.iteration += 1\n",
    "\n",
    "        if self.iteration >= 10001:\n",
    "            done = True\n",
    "        else:\n",
    "            done = False\n",
    "            \n",
    "        \n",
    "        lights = self.sim.get_lights()\n",
    "        if action == 0:\n",
    "            lights[0].set_state(\"red\")\n",
    "            lights[1].set_state(\"green\")\n",
    "        elif action == 1:\n",
    "            lights[0].set_state(\"green\")\n",
    "            lights[1].set_state(\"red\")\n",
    "        elif action == 2:\n",
    "            lights[0].set_state(\"red\")\n",
    "            lights[1].set_state(\"red\")\n",
    "        \n",
    "        self.state = self.sim.get_state()\n",
    "\n",
    "        reward = 1 - self.sim.get_mean_wait_time()**2\n",
    "        if self.sim.collision is not None:\n",
    "            reward -= 1\n",
    "\n",
    "        info = {}\n",
    "\n",
    "        return self.state, reward, done, info\n",
    "    \n",
    "    \n",
    "    def render(self):\n",
    "        pass\n",
    "        \n",
    "    def reset(self):\n",
    "        self.sim.reset()\n",
    "        self.iteration = 0\n",
    "        self.state = 1\n",
    "        return self.state\n",
    "        "
   ]
  },
  {
   "cell_type": "code",
   "execution_count": 3,
   "id": "40028411",
   "metadata": {},
   "outputs": [
    {
     "name": "stderr",
     "output_type": "stream",
     "text": [
      "/opt/homebrew/anaconda3/envs/test/lib/python3.8/site-packages/gym/spaces/box.py:127: UserWarning: \u001b[33mWARN: Box bound precision lowered by casting to float32\u001b[0m\n",
      "  logger.warn(f\"Box bound precision lowered by casting to {self.dtype}\")\n"
     ]
    }
   ],
   "source": [
    "env = JunctionEnv(Simulation(\"cross_road.junc\", visualise=False))"
   ]
  },
  {
   "cell_type": "code",
   "execution_count": 4,
   "id": "3e47fca5",
   "metadata": {},
   "outputs": [
    {
     "name": "stdout",
     "output_type": "stream",
     "text": [
      "Mean wait time: 0.00min\n",
      "08:00:00:100\n",
      "Mean wait time: 1.34min\n",
      "08:16:40:100\n",
      "Episode: 1 Score: -8445.110591396457\n"
     ]
    }
   ],
   "source": [
    "episode = 1\n",
    "for episode in range(1, episode + 1):\n",
    "    state = env.reset()\n",
    "    done = False\n",
    "    score = 0\n",
    "    \n",
    "    while not done:\n",
    "        action = env.action_space.sample()\n",
    "        n_state, reward, done, info = env.step(action)\n",
    "        score += reward\n",
    "    print(f\"Episode: {episode} Score: {score}\")"
   ]
  },
  {
   "cell_type": "code",
   "execution_count": 5,
   "id": "f6bb997c",
   "metadata": {},
   "outputs": [],
   "source": [
    "import numpy as np\n",
    "from tensorflow.keras.models import Sequential\n",
    "from tensorflow.keras.layers import Dense, Flatten\n",
    "from tensorflow.keras.optimizers.legacy import Adam"
   ]
  },
  {
   "cell_type": "code",
   "execution_count": 6,
   "id": "789aabb6",
   "metadata": {},
   "outputs": [],
   "source": [
    "states = env.observation_space.shape\n",
    "actions = env.action_space.n"
   ]
  },
  {
   "cell_type": "code",
   "execution_count": 7,
   "id": "dc0de548",
   "metadata": {},
   "outputs": [],
   "source": [
    "def build_model(states, actions):\n",
    "    model = Sequential()\n",
    "    model.add(Dense(24, activation='relu', input_shape=states))\n",
    "    model.add(Dense(24, activation='relu'))\n",
    "    model.add(Dense(actions, activation='linear'))\n",
    "    return model"
   ]
  },
  {
   "cell_type": "code",
   "execution_count": 14,
   "id": "8d1c3909",
   "metadata": {},
   "outputs": [],
   "source": [
    "del model"
   ]
  },
  {
   "cell_type": "code",
   "execution_count": 15,
   "id": "32917731",
   "metadata": {},
   "outputs": [],
   "source": [
    "model = build_model(states, actions)"
   ]
  },
  {
   "cell_type": "code",
   "execution_count": 10,
   "id": "92aad15b",
   "metadata": {},
   "outputs": [
    {
     "name": "stdout",
     "output_type": "stream",
     "text": [
      "Model: \"sequential\"\n",
      "_________________________________________________________________\n",
      " Layer (type)                Output Shape              Param #   \n",
      "=================================================================\n",
      " dense (Dense)               (None, 24)                48        \n",
      "                                                                 \n",
      " dense_1 (Dense)             (None, 24)                600       \n",
      "                                                                 \n",
      " dense_2 (Dense)             (None, 3)                 75        \n",
      "                                                                 \n",
      "=================================================================\n",
      "Total params: 723\n",
      "Trainable params: 723\n",
      "Non-trainable params: 0\n",
      "_________________________________________________________________\n"
     ]
    }
   ],
   "source": [
    "model.summary()"
   ]
  },
  {
   "cell_type": "code",
   "execution_count": 11,
   "id": "9ee815b3",
   "metadata": {},
   "outputs": [],
   "source": [
    "from rl.agents import DQNAgent\n",
    "from rl.policy import BoltzmannQPolicy\n",
    "from rl.memory import SequentialMemory"
   ]
  },
  {
   "cell_type": "code",
   "execution_count": 12,
   "id": "2c49f425",
   "metadata": {},
   "outputs": [],
   "source": [
    "def build_agent(model, actions):\n",
    "    policy = BoltzmannQPolicy()\n",
    "    memory = SequentialMemory(limit=50000, window_length=1)\n",
    "    dqn = DQNAgent(model=model, memory=memory, policy=policy, nb_actions=actions, nb_steps_warmup=10, target_model_update=1e-2)\n",
    "    return dqn"
   ]
  },
  {
   "cell_type": "code",
   "execution_count": 16,
   "id": "3716143e",
   "metadata": {},
   "outputs": [
    {
     "name": "stdout",
     "output_type": "stream",
     "text": [
      "WARNING:tensorflow:From /opt/homebrew/anaconda3/envs/test/lib/python3.8/site-packages/tensorflow/python/autograph/pyct/static_analysis/liveness.py:83: Analyzer.lamba_check (from tensorflow.python.autograph.pyct.static_analysis.liveness) is deprecated and will be removed after 2023-09-23.\n",
      "Instructions for updating:\n",
      "Lambda fuctions will be no more assumed to be used in the statement where they are used, or at least in the same block. https://github.com/tensorflow/tensorflow/issues/56089\n"
     ]
    },
    {
     "name": "stderr",
     "output_type": "stream",
     "text": [
      "2023-02-07 10:51:24.318352: I tensorflow/core/common_runtime/pluggable_device/pluggable_device_factory.cc:306] Could not identify NUMA node of platform GPU ID 0, defaulting to 0. Your kernel may not have been built with NUMA support.\n",
      "2023-02-07 10:51:24.318385: I tensorflow/core/common_runtime/pluggable_device/pluggable_device_factory.cc:272] Created TensorFlow device (/job:localhost/replica:0/task:0/device:GPU:0 with 0 MB memory) -> physical PluggableDevice (device: 0, name: METAL, pci bus id: <undefined>)\n",
      "2023-02-07 10:51:24.323176: I tensorflow/compiler/mlir/mlir_graph_optimization_pass.cc:357] MLIR V1 optimization pass is not enabled\n",
      "2023-02-07 10:51:24.324490: W tensorflow/tsl/platform/profile_utils/cpu_utils.cc:128] Failed to get CPU frequency: 0 Hz\n",
      "2023-02-07 10:51:24.324961: I tensorflow/core/grappler/optimizers/custom_graph_optimizer_registry.cc:114] Plugin optimizer for device_type GPU is enabled.\n",
      "2023-02-07 10:51:24.335140: W tensorflow/c/c_api.cc:291] Operation '{name:'dense_3_1/bias/Assign' id:164 op device:{requested: '', assigned: ''} def:{{{node dense_3_1/bias/Assign}} = AssignVariableOp[_has_manual_control_dependencies=true, dtype=DT_FLOAT, validate_shape=false](dense_3_1/bias, dense_3_1/bias/Initializer/zeros)}}' was changed by setting attribute after it was run by a session. This mutation will have no effect, and will trigger an error in the future. Either don't modify nodes after running them or create a new session.\n",
      "2023-02-07 10:51:24.337657: I tensorflow/core/grappler/optimizers/custom_graph_optimizer_registry.cc:114] Plugin optimizer for device_type GPU is enabled.\n",
      "2023-02-07 10:51:24.354443: I tensorflow/core/grappler/optimizers/custom_graph_optimizer_registry.cc:114] Plugin optimizer for device_type GPU is enabled.\n",
      "2023-02-07 10:51:24.366451: I tensorflow/core/grappler/optimizers/custom_graph_optimizer_registry.cc:114] Plugin optimizer for device_type GPU is enabled.\n"
     ]
    },
    {
     "name": "stdout",
     "output_type": "stream",
     "text": [
      "Training for 50000 steps ...\n",
      "Interval 1 (0 steps performed)\n",
      "Mean wait time: 0.00min\n",
      "08:00:00:100\n",
      "    1/10000 [..............................] - ETA: 8:19 - reward: 1.0000"
     ]
    },
    {
     "name": "stderr",
     "output_type": "stream",
     "text": [
      "/opt/homebrew/anaconda3/envs/test/lib/python3.8/site-packages/keras/engine/training_v1.py:2357: UserWarning: `Model.state_updates` will be removed in a future version. This property should not be used in TensorFlow 2.0, as `updates` are applied automatically.\n",
      "  updates=self.state_updates,\n",
      "2023-02-07 10:51:25.221045: W tensorflow/c/c_api.cc:291] Operation '{name:'dense_5/BiasAdd' id:145 op device:{requested: '', assigned: ''} def:{{{node dense_5/BiasAdd}} = BiasAdd[T=DT_FLOAT, _has_manual_control_dependencies=true, data_format=\"NHWC\"](dense_5/MatMul, dense_5/BiasAdd/ReadVariableOp)}}' was changed by setting attribute after it was run by a session. This mutation will have no effect, and will trigger an error in the future. Either don't modify nodes after running them or create a new session.\n",
      "2023-02-07 10:51:25.226039: I tensorflow/core/grappler/optimizers/custom_graph_optimizer_registry.cc:114] Plugin optimizer for device_type GPU is enabled.\n",
      "2023-02-07 10:51:25.231261: W tensorflow/c/c_api.cc:291] Operation '{name:'count_2/Assign' id:377 op device:{requested: '', assigned: ''} def:{{{node count_2/Assign}} = AssignVariableOp[_has_manual_control_dependencies=true, dtype=DT_FLOAT, validate_shape=false](count_2, count_2/Initializer/zeros)}}' was changed by setting attribute after it was run by a session. This mutation will have no effect, and will trigger an error in the future. Either don't modify nodes after running them or create a new session.\n",
      "2023-02-07 10:51:25.235812: I tensorflow/core/grappler/optimizers/custom_graph_optimizer_registry.cc:114] Plugin optimizer for device_type GPU is enabled.\n",
      "2023-02-07 10:51:25.244588: I tensorflow/core/grappler/optimizers/custom_graph_optimizer_registry.cc:114] Plugin optimizer for device_type GPU is enabled.\n",
      "/opt/homebrew/anaconda3/envs/test/lib/python3.8/site-packages/keras_rl2-1.0.5-py3.8.egg/rl/memory.py:37: UserWarning: Not enough entries to sample without replacement. Consider increasing your warm-up phase to avoid oversampling!\n",
      "  warnings.warn('Not enough entries to sample without replacement. Consider increasing your warm-up phase to avoid oversampling!')\n",
      "2023-02-07 10:51:25.286810: W tensorflow/c/c_api.cc:291] Operation '{name:'dense_5_1/BiasAdd' id:217 op device:{requested: '', assigned: ''} def:{{{node dense_5_1/BiasAdd}} = BiasAdd[T=DT_FLOAT, _has_manual_control_dependencies=true, data_format=\"NHWC\"](dense_5_1/MatMul, dense_5_1/BiasAdd/ReadVariableOp)}}' was changed by setting attribute after it was run by a session. This mutation will have no effect, and will trigger an error in the future. Either don't modify nodes after running them or create a new session.\n",
      "2023-02-07 10:51:25.291620: I tensorflow/core/grappler/optimizers/custom_graph_optimizer_registry.cc:114] Plugin optimizer for device_type GPU is enabled.\n",
      "2023-02-07 10:51:25.513074: W tensorflow/c/c_api.cc:291] Operation '{name:'loss_3/AddN' id:483 op device:{requested: '', assigned: ''} def:{{{node loss_3/AddN}} = AddN[N=2, T=DT_FLOAT, _has_manual_control_dependencies=true](loss_3/mul, loss_3/mul_1)}}' was changed by setting attribute after it was run by a session. This mutation will have no effect, and will trigger an error in the future. Either don't modify nodes after running them or create a new session.\n",
      "2023-02-07 10:51:25.521529: I tensorflow/core/grappler/optimizers/custom_graph_optimizer_registry.cc:114] Plugin optimizer for device_type GPU is enabled.\n",
      "2023-02-07 10:51:25.530445: W tensorflow/c/c_api.cc:291] Operation '{name:'training/Adam/dense_5/bias/v/Assign' id:700 op device:{requested: '', assigned: ''} def:{{{node training/Adam/dense_5/bias/v/Assign}} = AssignVariableOp[_has_manual_control_dependencies=true, dtype=DT_FLOAT, validate_shape=false](training/Adam/dense_5/bias/v, training/Adam/dense_5/bias/v/Initializer/zeros)}}' was changed by setting attribute after it was run by a session. This mutation will have no effect, and will trigger an error in the future. Either don't modify nodes after running them or create a new session.\n",
      "2023-02-07 10:51:25.538116: I tensorflow/core/grappler/optimizers/custom_graph_optimizer_registry.cc:114] Plugin optimizer for device_type GPU is enabled.\n",
      "2023-02-07 10:51:25.552236: I tensorflow/core/grappler/optimizers/custom_graph_optimizer_registry.cc:114] Plugin optimizer for device_type GPU is enabled.\n"
     ]
    },
    {
     "name": "stdout",
     "output_type": "stream",
     "text": [
      "   18/10000 [..............................] - ETA: 8:17 - reward: 1.0000"
     ]
    },
    {
     "name": "stderr",
     "output_type": "stream",
     "text": [
      "2023-02-07 10:51:25.943499: I tensorflow/core/grappler/optimizers/custom_graph_optimizer_registry.cc:114] Plugin optimizer for device_type GPU is enabled.\n",
      "2023-02-07 10:51:25.957765: I tensorflow/core/grappler/optimizers/custom_graph_optimizer_registry.cc:114] Plugin optimizer for device_type GPU is enabled.\n",
      "2023-02-07 10:51:25.972037: I tensorflow/core/grappler/optimizers/custom_graph_optimizer_registry.cc:114] Plugin optimizer for device_type GPU is enabled.\n",
      "2023-02-07 10:51:25.986348: I tensorflow/core/grappler/optimizers/custom_graph_optimizer_registry.cc:114] Plugin optimizer for device_type GPU is enabled.\n"
     ]
    },
    {
     "name": "stdout",
     "output_type": "stream",
     "text": [
      "10000/10000 [==============================] - 162s 16ms/step - reward: -0.5239\n",
      "Interval 2 (10000 steps performed)\n",
      "Mean wait time: 1.18min\n",
      "08:16:40:100\n",
      "    1/10000 [..............................] - ETA: 3:20 - reward: 0.0000e+00Mean wait time: 0.00min\n",
      "08:00:00:100\n",
      "10000/10000 [==============================] - 315s 31ms/step - reward: -0.5649\n",
      "1 episodes - episode_reward: -5238.947 [-5238.947, -5238.947] - loss: 218048.891 - mae: 13357.958 - mean_q: 20073.463\n",
      "\n",
      "Interval 3 (20000 steps performed)\n",
      "    1/10000 [..............................] - ETA: 3:47 - reward: -1.0171Mean wait time: 1.01min\n",
      "08:16:40:100\n",
      "Mean wait time: 0.00min\n",
      "08:00:00:100\n",
      "10000/10000 [==============================] - 168s 17ms/step - reward: -0.0606\n",
      "1 episodes - episode_reward: -5650.219 [-5650.219, -5650.219] - loss: 1200354.375 - mae: 13496.206 - mean_q: 20279.240\n",
      "\n",
      "Interval 4 (30000 steps performed)\n",
      "    1/10000 [..............................] - ETA: 3:45 - reward: -0.6423Mean wait time: 0.80min\n",
      "08:16:40:100\n",
      "Mean wait time: 0.00min\n",
      "08:00:00:100\n",
      "10000/10000 [==============================] - 177s 18ms/step - reward: -0.8987\n",
      "1 episodes - episode_reward: -605.974 [-605.974, -605.974] - loss: 250490.578 - mae: 4866.854 - mean_q: 7317.952\n",
      "\n",
      "Interval 5 (40000 steps performed)\n",
      "    1/10000 [..............................] - ETA: 3:56 - reward: -1.5464Mean wait time: 1.24min\n",
      "08:16:40:100\n",
      "    4/10000 [..............................] - ETA: 3:29 - reward: -1.1598Mean wait time: 0.00min\n",
      "08:00:00:100\n",
      "10000/10000 [==============================] - 176s 18ms/step - reward: -0.6646\n",
      "done, took 852.734 seconds\n"
     ]
    },
    {
     "data": {
      "text/plain": [
       "<keras.callbacks.History at 0x15d282070>"
      ]
     },
     "execution_count": 16,
     "metadata": {},
     "output_type": "execute_result"
    }
   ],
   "source": [
    "dqn = build_agent(model, actions)\n",
    "dqn.compile(Adam(learning_rate=1e-3), metrics=['mae'])\n",
    "dqn.fit(env, nb_steps=50000, visualize=False, verbose=1)"
   ]
  },
  {
   "cell_type": "code",
   "execution_count": null,
   "id": "230a087a",
   "metadata": {},
   "outputs": [],
   "source": [
    "dqn.forward(1)"
   ]
  },
  {
   "cell_type": "code",
   "execution_count": null,
   "id": "82445d63",
   "metadata": {},
   "outputs": [],
   "source": [
    "scores = dqn.test(env, nb_episodes=2, visualize=False)\n",
    "print(np.mean(scores.history['episode_reward']))"
   ]
  },
  {
   "cell_type": "code",
   "execution_count": null,
   "id": "f89a9509",
   "metadata": {},
   "outputs": [],
   "source": [
    "env = JunctionEnv(Simulation(\"cross_road.junc\", visualise=True, dqn_agent=dqn))"
   ]
  },
  {
   "cell_type": "code",
   "execution_count": null,
   "id": "ee061419",
   "metadata": {},
   "outputs": [],
   "source": []
  },
  {
   "cell_type": "code",
   "execution_count": null,
   "id": "1932a43e",
   "metadata": {},
   "outputs": [],
   "source": []
  }
 ],
 "metadata": {
  "kernelspec": {
   "display_name": "Python [conda env:test] *",
   "language": "python",
   "name": "conda-env-test-py"
  },
  "language_info": {
   "codemirror_mode": {
    "name": "ipython",
    "version": 3
   },
   "file_extension": ".py",
   "mimetype": "text/x-python",
   "name": "python",
   "nbconvert_exporter": "python",
   "pygments_lexer": "ipython3",
   "version": "3.8.12"
  }
 },
 "nbformat": 4,
 "nbformat_minor": 5
}
