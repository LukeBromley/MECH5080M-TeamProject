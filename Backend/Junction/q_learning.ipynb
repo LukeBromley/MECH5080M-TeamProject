{
 "cells": [
  {
   "cell_type": "code",
   "execution_count": 1,
   "id": "cdb1c50e",
   "metadata": {},
   "outputs": [
    {
     "ename": "SyntaxError",
     "evalue": "invalid syntax (2030199172.py, line 6)",
     "output_type": "error",
     "traceback": [
      "\u001B[0;36m  Input \u001B[0;32mIn [1]\u001B[0;36m\u001B[0m\n\u001B[0;31m    from main\u001B[0m\n\u001B[0m             ^\u001B[0m\n\u001B[0;31mSyntaxError\u001B[0m\u001B[0;31m:\u001B[0m invalid syntax\n"
     ]
    }
   ],
   "source": [
    "from gym import Env\n",
    "from gym.spaces import Discrete, Box\n",
    "import numpy as np\n",
    "import random\n",
    "\n",
    "from main"
   ]
  },
  {
   "cell_type": "code",
   "execution_count": null,
   "id": "ccb33c0a",
   "metadata": {},
   "outputs": [],
   "source": [
    "class JunctionEnv(Env):\n",
    "    def __init__(self):\n",
    "        self.action_space = Discrete(4)\n",
    "        self.observation_pace = Box(low=np.array[0], high=np.array([100]))\n",
    "        self.state = 38 + random\n",
    "        self.length = 3600\n",
    "    def step(self, action): \n",
    "        self.state += action - 1\n",
    "        self.length -= 1\n",
    "        \n",
    "        if self.state >= 37 and self.state <= 39:\n",
    "            reward = 1\n",
    "        else:\n",
    "            reward = -1\n",
    "            \n",
    "        \n",
    "        if self.length <= 0:\n",
    "            done = True\n",
    "        else:\n",
    "            done = False\n",
    "                 \n",
    "        info = {}\n",
    "        \n",
    "        return self.state, reward, done, info\n",
    "    \n",
    "    \n",
    "    def render(self):\n",
    "        \n",
    "    def reset(self):\n",
    "        "
   ]
  }
 ],
 "metadata": {
  "kernelspec": {
   "display_name": "Python [conda env:MECH5080M] *",
   "language": "python",
   "name": "conda-env-MECH5080M-py"
  },
  "language_info": {
   "codemirror_mode": {
    "name": "ipython",
    "version": 3
   },
   "file_extension": ".py",
   "mimetype": "text/x-python",
   "name": "python",
   "nbconvert_exporter": "python",
   "pygments_lexer": "ipython3",
   "version": "3.10.9"
  }
 },
 "nbformat": 4,
 "nbformat_minor": 5
}
